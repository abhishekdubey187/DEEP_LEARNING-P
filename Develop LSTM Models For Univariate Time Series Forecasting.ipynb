{
  "cells": [
    {
      "cell_type": "markdown",
      "metadata": {
        "id": "H_b34-4u9NBL"
      },
      "source": [
        "### Develop LSTM Models For Univariate Time Series Forecasting"
      ]
    },
    {
      "cell_type": "code",
      "execution_count": 34,
      "metadata": {
        "id": "AaQyXcdN9EHc"
      },
      "outputs": [],
      "source": [
        "import numpy as np\n",
        "from tensorflow.keras.models import Sequential\n",
        "from tensorflow.keras.layers import LSTM\n",
        "from tensorflow.keras.layers import Dense\n",
        "from tensorflow.keras.layers import Flatten"
      ]
    },
    {
      "cell_type": "code",
      "execution_count": 35,
      "metadata": {
        "id": "353KGwfC9tTW"
      },
      "outputs": [],
      "source": [
        "def prepare_data(timeseries_data, n_features):\n",
        "\tX, y =[],[]\n",
        "\tfor i in range(len(timeseries_data)):\n",
        "\t\t# find the end of this pattern\n",
        "\t\tend_ix = i + n_features\n",
        "\t\t# check if we are beyond the sequence\n",
        "\t\tif end_ix > len(timeseries_data)-1:\n",
        "\t\t\tbreak\n",
        "\t\t# gather input and output parts of the pattern\n",
        "\t\tseq_x, seq_y = timeseries_data[i:end_ix], timeseries_data[end_ix]\n",
        "\t\tX.append(seq_x)\n",
        "\t\ty.append(seq_y)\n",
        "\treturn np.array(X), np.array(y)"
      ]
    },
    {
      "cell_type": "code",
      "execution_count": 36,
      "metadata": {
        "id": "XmDSMp_O9yZg"
      },
      "outputs": [],
      "source": [
        "# define input sequence\n",
        "timeseries_data = [110, 125, 133, 146, 158, 172, 187, 196, 210]\n",
        "# choose a number of time steps\n",
        "n_steps = 3\n",
        "# split into samples\n",
        "X, y = prepare_data(timeseries_data, n_steps)"
      ]
    },
    {
      "cell_type": "code",
      "execution_count": 37,
      "metadata": {
        "colab": {
          "base_uri": "https://localhost:8080/"
        },
        "id": "tYnWFfSL90N2",
        "outputId": "6325e8a1-d19e-4c1e-806a-29483a0a7b4c"
      },
      "outputs": [
        {
          "name": "stdout",
          "output_type": "stream",
          "text": [
            "[[110 125 133]\n",
            " [125 133 146]\n",
            " [133 146 158]\n",
            " [146 158 172]\n",
            " [158 172 187]\n",
            " [172 187 196]]\n",
            "[146 158 172 187 196 210]\n"
          ]
        },
        {
          "data": {
            "text/plain": [
              "(None, None)"
            ]
          },
          "execution_count": 37,
          "metadata": {},
          "output_type": "execute_result"
        }
      ],
      "source": [
        "print(X),print(y)\n"
      ]
    },
    {
      "cell_type": "code",
      "execution_count": 38,
      "metadata": {
        "colab": {
          "base_uri": "https://localhost:8080/"
        },
        "id": "uMXxnNCD9522",
        "outputId": "527abb85-7ee1-48c2-a9dd-f881b0629d67"
      },
      "outputs": [
        {
          "data": {
            "text/plain": [
              "(6, 3)"
            ]
          },
          "execution_count": 38,
          "metadata": {},
          "output_type": "execute_result"
        }
      ],
      "source": [
        "X.shape"
      ]
    },
    {
      "cell_type": "code",
      "execution_count": 39,
      "metadata": {
        "id": "gpsw96mF-CAC"
      },
      "outputs": [],
      "source": [
        "n_features = 1\n",
        "X = X.reshape((X.shape[0], X.shape[1], n_features))"
      ]
    },
    {
      "cell_type": "markdown",
      "metadata": {
        "id": "AXdF3gar-MVx"
      },
      "source": [
        "## Building LSTM Model"
      ]
    },
    {
      "cell_type": "code",
      "execution_count": 40,
      "metadata": {
        "id": "xUCmzCm0-G-q"
      },
      "outputs": [],
      "source": [
        "# define model\n",
        "model = Sequential()\n",
        "model.add(LSTM(50, activation='relu', return_sequences=False, input_shape=(n_steps, n_features)))\n",
        "model.add(Dense(1))"
      ]
    },
    {
      "cell_type": "code",
      "execution_count": 41,
      "metadata": {
        "colab": {
          "base_uri": "https://localhost:8080/"
        },
        "id": "SbHIE_ZV-Rux",
        "outputId": "a34108e7-ca16-42f4-fffa-d3a410a927fd"
      },
      "outputs": [
        {
          "name": "stdout",
          "output_type": "stream",
          "text": [
            "Model: \"sequential_2\"\n",
            "_________________________________________________________________\n",
            " Layer (type)                Output Shape              Param #   \n",
            "=================================================================\n",
            " lstm_2 (LSTM)               (None, 50)                10400     \n",
            "                                                                 \n",
            " dense_2 (Dense)             (None, 1)                 51        \n",
            "                                                                 \n",
            "=================================================================\n",
            "Total params: 10451 (40.82 KB)\n",
            "Trainable params: 10451 (40.82 KB)\n",
            "Non-trainable params: 0 (0.00 Byte)\n",
            "_________________________________________________________________\n"
          ]
        }
      ],
      "source": [
        "model.summary()"
      ]
    },
    {
      "cell_type": "code",
      "execution_count": 42,
      "metadata": {
        "colab": {
          "base_uri": "https://localhost:8080/"
        },
        "id": "4gTrFL01-lDl",
        "outputId": "46ca3e15-b668-48c3-ebc0-d0eee427ff13"
      },
      "outputs": [
        {
          "name": "stdout",
          "output_type": "stream",
          "text": [
            "Epoch 1/30\n",
            "1/1 [==============================] - 2s 2s/step - loss: 31522.7246\n",
            "Epoch 2/30\n",
            "1/1 [==============================] - 0s 12ms/step - loss: 30780.1484\n",
            "Epoch 3/30\n",
            "1/1 [==============================] - 0s 9ms/step - loss: 29807.2715\n",
            "Epoch 4/30\n",
            "1/1 [==============================] - 0s 14ms/step - loss: 29098.5254\n",
            "Epoch 5/30\n",
            "1/1 [==============================] - 0s 8ms/step - loss: 28750.4434\n",
            "Epoch 6/30\n",
            "1/1 [==============================] - 0s 10ms/step - loss: 28544.4785\n",
            "Epoch 7/30\n",
            "1/1 [==============================] - 0s 9ms/step - loss: 28373.8926\n",
            "Epoch 8/30\n",
            "1/1 [==============================] - 0s 10ms/step - loss: 28207.3516\n",
            "Epoch 9/30\n",
            "1/1 [==============================] - 0s 10ms/step - loss: 28036.4297\n",
            "Epoch 10/30\n",
            "1/1 [==============================] - 0s 8ms/step - loss: 27859.1699\n",
            "Epoch 11/30\n",
            "1/1 [==============================] - 0s 9ms/step - loss: 27675.4746\n",
            "Epoch 12/30\n",
            "1/1 [==============================] - 0s 9ms/step - loss: 27485.7598\n",
            "Epoch 13/30\n",
            "1/1 [==============================] - 0s 9ms/step - loss: 27290.4785\n",
            "Epoch 14/30\n",
            "1/1 [==============================] - 0s 8ms/step - loss: 27089.9766\n",
            "Epoch 15/30\n",
            "1/1 [==============================] - 0s 8ms/step - loss: 26884.4043\n",
            "Epoch 16/30\n",
            "1/1 [==============================] - 0s 9ms/step - loss: 26671.5527\n",
            "Epoch 17/30\n",
            "1/1 [==============================] - 0s 9ms/step - loss: 26445.6250\n",
            "Epoch 18/30\n",
            "1/1 [==============================] - 0s 9ms/step - loss: 26201.4609\n",
            "Epoch 19/30\n",
            "1/1 [==============================] - 0s 8ms/step - loss: 25942.7129\n",
            "Epoch 20/30\n",
            "1/1 [==============================] - 0s 13ms/step - loss: 25670.9824\n",
            "Epoch 21/30\n",
            "1/1 [==============================] - 0s 10ms/step - loss: 25384.8496\n",
            "Epoch 22/30\n",
            "1/1 [==============================] - 0s 12ms/step - loss: 25082.2871\n",
            "Epoch 23/30\n",
            "1/1 [==============================] - 0s 12ms/step - loss: 24760.5527\n",
            "Epoch 24/30\n",
            "1/1 [==============================] - 0s 11ms/step - loss: 24416.0938\n",
            "Epoch 25/30\n",
            "1/1 [==============================] - 0s 10ms/step - loss: 24044.6152\n",
            "Epoch 26/30\n",
            "1/1 [==============================] - 0s 9ms/step - loss: 23641.2402\n",
            "Epoch 27/30\n",
            "1/1 [==============================] - 0s 10ms/step - loss: 23200.8535\n",
            "Epoch 28/30\n",
            "1/1 [==============================] - 0s 7ms/step - loss: 22718.5938\n",
            "Epoch 29/30\n",
            "1/1 [==============================] - 0s 10ms/step - loss: 22190.2754\n",
            "Epoch 30/30\n",
            "1/1 [==============================] - 0s 9ms/step - loss: 21601.5879\n"
          ]
        },
        {
          "data": {
            "text/plain": [
              "<keras.src.callbacks.History at 0x7cef873c7160>"
            ]
          },
          "execution_count": 42,
          "metadata": {},
          "output_type": "execute_result"
        }
      ],
      "source": [
        "model.compile(optimizer='adam', loss='mse')\n",
        "# fit model\n",
        "model.fit(X, y, epochs=30, verbose=1)"
      ]
    },
    {
      "cell_type": "markdown",
      "metadata": {
        "id": "hs5aOtdD-1vQ"
      },
      "source": [
        "## Predicting For the next 10 data"
      ]
    },
    {
      "cell_type": "code",
      "execution_count": 43,
      "metadata": {
        "colab": {
          "base_uri": "https://localhost:8080/"
        },
        "id": "1kPn44C_-uec",
        "outputId": "9f1bc066-172d-4b9c-de26-570b4d3bf3ce"
      },
      "outputs": [
        {
          "name": "stdout",
          "output_type": "stream",
          "text": [
            "[44.369076]\n",
            "1 day input [196.         210.          44.36907578]\n",
            "1 day output [[50.654064]]\n",
            "2 day input [210.          44.36907578  50.65406418]\n",
            "2 day output [[36.6351]]\n",
            "3 day input [44.369076 50.654064 36.6351  ]\n",
            "3 day output [[10.873111]]\n",
            "4 day input [50.654064 36.6351   10.873111]\n",
            "4 day output [[9.286577]]\n",
            "5 day input [36.6351   10.873111  9.286577]\n",
            "5 day output [[3.9933417]]\n",
            "6 day input [10.873111   9.286577   3.9933417]\n",
            "6 day output [[1.0442688]]\n",
            "7 day input [9.286577  3.9933417 1.0442688]\n",
            "7 day output [[0.51469016]]\n",
            "8 day input [3.9933417  1.0442688  0.51469016]\n",
            "8 day output [[0.18655077]]\n",
            "9 day input [1.0442688  0.51469016 0.18655077]\n",
            "9 day output [[0.09207755]]\n",
            "[44.369076, 50.654064, 36.6351, 10.873111, 9.286577, 3.9933417, 1.0442688, 0.51469016, 0.18655077, 0.092077546]\n"
          ]
        }
      ],
      "source": [
        "# demonstrate prediction for next 10 days\n",
        "from numpy import array\n",
        "x_input = array([187, 196, 210])\n",
        "temp_input=list(x_input)\n",
        "lst_output=[]\n",
        "i=0\n",
        "while(i<10):\n",
        "\n",
        "    if(len(temp_input)>3):\n",
        "        x_input=array(temp_input[1:])\n",
        "        print(\"{} day input {}\".format(i,x_input))\n",
        "        #print(x_input)\n",
        "        x_input = x_input.reshape((1, n_steps, n_features))\n",
        "        #print(x_input)\n",
        "        yhat = model.predict(x_input, verbose=0)\n",
        "        print(\"{} day output {}\".format(i,yhat))\n",
        "        temp_input.append(yhat[0][0])\n",
        "        temp_input=temp_input[1:]\n",
        "        #print(temp_input)\n",
        "        lst_output.append(yhat[0][0])\n",
        "        i=i+1\n",
        "    else:\n",
        "        x_input = x_input.reshape((1, n_steps, n_features))\n",
        "        yhat = model.predict(x_input, verbose=0)\n",
        "        print(yhat[0])\n",
        "        temp_input.append(yhat[0][0])\n",
        "        lst_output.append(yhat[0][0])\n",
        "        i=i+1\n",
        "\n",
        "\n",
        "print(lst_output)"
      ]
    },
    {
      "cell_type": "code",
      "execution_count": 44,
      "metadata": {
        "colab": {
          "base_uri": "https://localhost:8080/"
        },
        "id": "QonbCzqW1csx",
        "outputId": "8baf8117-5e8c-497c-a2ec-46207b3989c8"
      },
      "outputs": [
        {
          "data": {
            "text/plain": [
              "[110, 125, 133, 146, 158, 172, 187, 196, 210]"
            ]
          },
          "execution_count": 44,
          "metadata": {},
          "output_type": "execute_result"
        }
      ],
      "source": [
        "timeseries_data"
      ]
    },
    {
      "cell_type": "code",
      "execution_count": 45,
      "metadata": {
        "colab": {
          "base_uri": "https://localhost:8080/"
        },
        "id": "siq_DvqV1mVJ",
        "outputId": "6076051f-e97d-4fce-9882-1908dbf9aad7"
      },
      "outputs": [
        {
          "data": {
            "text/plain": [
              "9"
            ]
          },
          "execution_count": 45,
          "metadata": {},
          "output_type": "execute_result"
        }
      ],
      "source": [
        "len(timeseries_data)"
      ]
    },
    {
      "cell_type": "code",
      "execution_count": 46,
      "metadata": {
        "colab": {
          "base_uri": "https://localhost:8080/"
        },
        "id": "WN86a3g-1q4T",
        "outputId": "9b8ba01f-ca9b-4911-b29a-caaad685b21d"
      },
      "outputs": [
        {
          "data": {
            "text/plain": [
              "[44.369076,\n",
              " 50.654064,\n",
              " 36.6351,\n",
              " 10.873111,\n",
              " 9.286577,\n",
              " 3.9933417,\n",
              " 1.0442688,\n",
              " 0.51469016,\n",
              " 0.18655077,\n",
              " 0.092077546]"
            ]
          },
          "execution_count": 46,
          "metadata": {},
          "output_type": "execute_result"
        }
      ],
      "source": [
        "lst_output"
      ]
    },
    {
      "cell_type": "markdown",
      "metadata": {
        "id": "HSuTayV21y9G"
      },
      "source": [
        "## Visualizaing The Output"
      ]
    },
    {
      "cell_type": "code",
      "execution_count": 47,
      "metadata": {
        "id": "3ashXP1t1vfo"
      },
      "outputs": [],
      "source": [
        "import matplotlib.pyplot as plt"
      ]
    },
    {
      "cell_type": "code",
      "execution_count": 48,
      "metadata": {
        "id": "Vam95Iys16pa"
      },
      "outputs": [],
      "source": [
        "day_new=np.arange(1,10)\n",
        "day_pred=np.arange(10,20)"
      ]
    },
    {
      "cell_type": "code",
      "execution_count": 49,
      "metadata": {
        "colab": {
          "base_uri": "https://localhost:8080/",
          "height": 447
        },
        "id": "sJyqgJee1-S0",
        "outputId": "976eef74-db6c-42c8-ec08-d4a474285fa3"
      },
      "outputs": [
        {
          "data": {
            "text/plain": [
              "[<matplotlib.lines.Line2D at 0x7cef72babb80>]"
            ]
          },
          "execution_count": 49,
          "metadata": {},
          "output_type": "execute_result"
        },
        {
          "data": {
            "image/png": "[encoded data removed]",
            "text/plain": [
              "<Figure size 640x480 with 1 Axes>"
            ]
          },
          "metadata": {},
          "output_type": "display_data"
        }
      ],
      "source": [
        "plt.plot(day_new,timeseries_data)\n",
        "plt.plot(day_pred,lst_output)"
      ]
    }
  ],
  "metadata": {
    "colab": {
      "provenance": []
    },
    "kernelspec": {
      "display_name": "Python 3",
      "name": "python3"
    },
    "language_info": {
      "name": "python"
    }
  },
  "nbformat": 4,
  "nbformat_minor": 0
}
