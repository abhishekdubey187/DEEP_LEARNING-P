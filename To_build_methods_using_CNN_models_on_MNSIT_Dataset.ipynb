{
  "nbformat": 4,
  "nbformat_minor": 0,
  "metadata": {
    "colab": {
      "provenance": []
    },
    "kernelspec": {
      "name": "python3",
      "display_name": "Python 3"
    },
    "language_info": {
      "name": "python"
    }
  },
  "cells": [
    {
      "cell_type": "code",
      "execution_count": 6,
      "metadata": {
        "id": "lRYUd_iPF2B3"
      },
      "outputs": [],
      "source": [
        "import numpy as np\n",
        "import keras\n",
        "from keras.datasets import mnist\n",
        "from keras.models import Model\n",
        "from keras.layers import Dense, Input\n",
        "from keras.layers import Conv2D, MaxPooling2D, Dropout, Flatten\n",
        "from keras import backend as k\n"
      ]
    },
    {
      "cell_type": "code",
      "source": [
        "(x_train, y_train), (x_test, y_test) = mnist.load_data()\n"
      ],
      "metadata": {
        "id": "pNHNUdcEF73U"
      },
      "execution_count": 7,
      "outputs": []
    },
    {
      "cell_type": "code",
      "source": [
        "import tensorflow as tf\n",
        "\n",
        "img_rows, img_cols = 28, 28\n",
        "\n",
        "# Load MNIST dataset\n",
        "(x_train, y_train), (x_test, y_test) = tf.keras.datasets.mnist.load_data()\n",
        "\n",
        "if tf.keras.backend.image_data_format() == 'channels_first':\n",
        "    x_train = x_train.reshape(x_train.shape[0], 1, img_rows, img_cols)\n",
        "    x_test = x_test.reshape(x_test.shape[0], 1, img_rows, img_cols)\n",
        "    inpx = (1, img_rows, img_cols)\n",
        "else:\n",
        "    x_train = x_train.reshape(x_train.shape[0], img_rows, img_cols, 1)\n",
        "    x_test = x_test.reshape(x_test.shape[0], img_rows, img_cols, 1)\n",
        "    inpx = (img_rows, img_cols, 1)\n",
        "\n",
        "x_train = x_train.astype('float32')\n",
        "x_test = x_test.astype('float32')\n",
        "x_train /= 255\n",
        "x_test /= 255\n"
      ],
      "metadata": {
        "id": "-72w3byLF9WS"
      },
      "execution_count": 9,
      "outputs": []
    },
    {
      "cell_type": "code",
      "source": [
        "y_train = keras.utils.to_categorical(y_train)\n",
        "y_test = keras.utils.to_categorical(y_test)\n"
      ],
      "metadata": {
        "id": "Eah5q8xLF_H3"
      },
      "execution_count": 10,
      "outputs": []
    },
    {
      "cell_type": "code",
      "source": [
        "inpx = Input(shape=inpx)\n",
        "layer1 = Conv2D(32, kernel_size=(3, 3), activation='relu')(inpx)\n",
        "layer2 = Conv2D(64, (3, 3), activation='relu')(layer1)\n",
        "layer3 = MaxPooling2D(pool_size=(3, 3))(layer2)\n",
        "layer4 = Dropout(0.5)(layer3)\n",
        "layer5 = Flatten()(layer4)\n",
        "layer6 = Dense(250, activation='sigmoid')(layer5)\n",
        "layer7 = Dense(10, activation='softmax')(layer6)\n"
      ],
      "metadata": {
        "id": "R35fT56pGBt6"
      },
      "execution_count": 11,
      "outputs": []
    },
    {
      "cell_type": "code",
      "source": [
        "model = Model([inpx], layer7)\n",
        "model.compile(optimizer=keras.optimizers.Adadelta(),\n",
        "\t\t\tloss=keras.losses.categorical_crossentropy,\n",
        "\t\t\tmetrics=['accuracy'])\n",
        "\n",
        "model.fit(x_train, y_train, epochs=12, batch_size=500)\n"
      ],
      "metadata": {
        "colab": {
          "base_uri": "https://localhost:8080/"
        },
        "id": "s77p1MjvGDTV",
        "outputId": "3d754e8a-8e08-4e86-be29-82fdc74a38ba"
      },
      "execution_count": 12,
      "outputs": [
        {
          "output_type": "stream",
          "name": "stdout",
          "text": [
            "Epoch 1/12\n",
            "120/120 [==============================] - 146s 1s/step - loss: 2.3925 - accuracy: 0.0904\n",
            "Epoch 2/12\n",
            "120/120 [==============================] - 140s 1s/step - loss: 2.3816 - accuracy: 0.0904\n",
            "Epoch 3/12\n",
            "120/120 [==============================] - 142s 1s/step - loss: 2.3711 - accuracy: 0.0904\n",
            "Epoch 4/12\n",
            "120/120 [==============================] - 140s 1s/step - loss: 2.3613 - accuracy: 0.0904\n",
            "Epoch 5/12\n",
            "120/120 [==============================] - 138s 1s/step - loss: 2.3515 - accuracy: 0.0904\n",
            "Epoch 6/12\n",
            "120/120 [==============================] - 139s 1s/step - loss: 2.3425 - accuracy: 0.0904\n",
            "Epoch 7/12\n",
            "120/120 [==============================] - 137s 1s/step - loss: 2.3338 - accuracy: 0.0904\n",
            "Epoch 8/12\n",
            "120/120 [==============================] - 139s 1s/step - loss: 2.3256 - accuracy: 0.0904\n",
            "Epoch 9/12\n",
            "120/120 [==============================] - 138s 1s/step - loss: 2.3181 - accuracy: 0.0904\n",
            "Epoch 10/12\n",
            "120/120 [==============================] - 139s 1s/step - loss: 2.3106 - accuracy: 0.0907\n",
            "Epoch 11/12\n",
            "120/120 [==============================] - 139s 1s/step - loss: 2.3037 - accuracy: 0.0916\n",
            "Epoch 12/12\n",
            "120/120 [==============================] - 138s 1s/step - loss: 2.2973 - accuracy: 0.0942\n"
          ]
        },
        {
          "output_type": "execute_result",
          "data": {
            "text/plain": [
              "<keras.src.callbacks.History at 0x793bb35bd8a0>"
            ]
          },
          "metadata": {},
          "execution_count": 12
        }
      ]
    },
    {
      "cell_type": "code",
      "source": [
        "score = model.evaluate(x_test, y_test, verbose=0)\n",
        "print('loss=', score[0])\n",
        "print('accuracy=', score[1])\n"
      ],
      "metadata": {
        "colab": {
          "base_uri": "https://localhost:8080/"
        },
        "id": "PRPcCgh5G1f1",
        "outputId": "f5bc02fb-d058-4d91-b0f7-d097451f8ef3"
      },
      "execution_count": 13,
      "outputs": [
        {
          "output_type": "stream",
          "name": "stdout",
          "text": [
            "loss= 2.2943015098571777\n",
            "accuracy= 0.08919999748468399\n"
          ]
        }
      ]
    }
  ]
}