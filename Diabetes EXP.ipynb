{
  "nbformat": 4,
  "nbformat_minor": 0,
  "metadata": {
    "colab": {
      "provenance": []
    },
    "kernelspec": {
      "name": "python3",
      "display_name": "Python 3"
    },
    "language_info": {
      "name": "python"
    }
  },
  "cells": [
    {
      "cell_type": "code",
      "source": [
        "# Importing required libraries\n",
        "import numpy as np\n",
        "import pandas as pd\n",
        "from sklearn.model_selection import train_test_split\n",
        "from sklearn.preprocessing import StandardScaler\n",
        "import tensorflow as tf\n",
        "from tensorflow.keras.models import Sequential\n",
        "from tensorflow.keras.layers import Dense\n",
        "\n",
        "# Load the dataset\n",
        "url = \"https://raw.githubusercontent.com/jbrownlee/Datasets/master/pima-indians-diabetes.data.csv\"\n",
        "names = ['Pregnancies', 'Glucose', 'BloodPressure', 'SkinThickness', 'Insulin', 'BMI', 'DiabetesPedigreeFunction', 'Age', 'Outcome']\n",
        "dataset = pd.read_csv(url, names=names)\n",
        "\n",
        "# Display the head of the dataset\n",
        "print(\"Head of the dataset:\")\n",
        "print(dataset.head())\n",
        "\n",
        "# Split the dataset into features (X) and target (y)\n",
        "X = dataset.iloc[:, :-1].values\n",
        "y = dataset.iloc[:, -1].values\n",
        "\n",
        "# Split data into train and test sets\n",
        "X_train, X_test, y_train, y_test = train_test_split(X, y, test_size=0.2, random_state=42)\n",
        "\n",
        "# Standardize features\n",
        "scaler = StandardScaler()\n",
        "X_train = scaler.fit_transform(X_train)\n",
        "X_test = scaler.transform(X_test)\n",
        "\n",
        "# Define the model\n",
        "model = Sequential([\n",
        "    Dense(12, input_dim=8, activation='relu'),\n",
        "    Dense(8, activation='relu'),\n",
        "    Dense(1, activation='sigmoid')\n",
        "])\n",
        "\n",
        "# Compile the model\n",
        "model.compile(optimizer='adam', loss='binary_crossentropy', metrics=['accuracy'])\n",
        "\n",
        "# Train the model\n",
        "model.fit(X_train, y_train, epochs=150, batch_size=10, verbose=0)\n",
        "\n",
        "# Evaluate the model\n",
        "_, accuracy = model.evaluate(X_test, y_test)\n",
        "print('Accuracy:', accuracy)\n",
        "\n",
        "# Make predictions\n",
        "predictions = model.predict(X_test)\n",
        "print(\"Sample predictions:\")\n",
        "for i in range(15):\n",
        "    print(\"Actual outcome:\", y_test[i], \"| Predicted probability:\", predictions[i][0], \"| Predicted outcome:\", round(predictions[i][0]))\n"
      ],
      "metadata": {
        "colab": {
          "base_uri": "https://localhost:8080/"
        },
        "id": "wHPauBQ8fjaQ",
        "outputId": "a3609046-968d-403e-d6eb-411a77dc9d77"
      },
      "execution_count": 6,
      "outputs": [
        {
          "output_type": "stream",
          "name": "stdout",
          "text": [
            "Head of the dataset:\n",
            "   Pregnancies  Glucose  BloodPressure  SkinThickness  Insulin   BMI  \\\n",
            "0            6      148             72             35        0  33.6   \n",
            "1            1       85             66             29        0  26.6   \n",
            "2            8      183             64              0        0  23.3   \n",
            "3            1       89             66             23       94  28.1   \n",
            "4            0      137             40             35      168  43.1   \n",
            "\n",
            "   DiabetesPedigreeFunction  Age  Outcome  \n",
            "0                     0.627   50        1  \n",
            "1                     0.351   31        0  \n",
            "2                     0.672   32        1  \n",
            "3                     0.167   21        0  \n",
            "4                     2.288   33        1  \n",
            "5/5 [==============================] - 0s 4ms/step - loss: 0.6365 - accuracy: 0.7403\n",
            "Accuracy: 0.7402597665786743\n",
            "5/5 [==============================] - 0s 3ms/step\n",
            "Sample predictions:\n",
            "Actual outcome: 0 | Predicted probability: 0.33622187 | Predicted outcome: 0\n",
            "Actual outcome: 0 | Predicted probability: 0.1069212 | Predicted outcome: 0\n",
            "Actual outcome: 0 | Predicted probability: 0.07328547 | Predicted outcome: 0\n",
            "Actual outcome: 0 | Predicted probability: 0.4346079 | Predicted outcome: 0\n",
            "Actual outcome: 0 | Predicted probability: 0.5537328 | Predicted outcome: 1\n",
            "Actual outcome: 0 | Predicted probability: 0.49404523 | Predicted outcome: 0\n",
            "Actual outcome: 0 | Predicted probability: 8.585267e-05 | Predicted outcome: 0\n",
            "Actual outcome: 0 | Predicted probability: 0.17661941 | Predicted outcome: 0\n",
            "Actual outcome: 0 | Predicted probability: 0.8181698 | Predicted outcome: 1\n",
            "Actual outcome: 0 | Predicted probability: 0.39986813 | Predicted outcome: 0\n",
            "Actual outcome: 1 | Predicted probability: 0.1688522 | Predicted outcome: 0\n",
            "Actual outcome: 0 | Predicted probability: 0.8796281 | Predicted outcome: 1\n",
            "Actual outcome: 1 | Predicted probability: 0.46645105 | Predicted outcome: 0\n",
            "Actual outcome: 0 | Predicted probability: 0.62185246 | Predicted outcome: 1\n",
            "Actual outcome: 0 | Predicted probability: 0.00899002 | Predicted outcome: 0\n"
          ]
        }
      ]
    },
    {
      "cell_type": "code",
      "source": [],
      "metadata": {
        "id": "LQOAjbjtgDT0"
      },
      "execution_count": null,
      "outputs": []
    }
  ]
}